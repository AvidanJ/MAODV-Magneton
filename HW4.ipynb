{
  "nbformat": 4,
  "nbformat_minor": 0,
  "metadata": {
    "colab": {
      "provenance": [],
      "toc_visible": true,
      "authorship_tag": "ABX9TyPcahTgpcYt43LNqkazrCGB",
      "include_colab_link": true
    },
    "kernelspec": {
      "name": "python3",
      "display_name": "Python 3"
    },
    "language_info": {
      "name": "python"
    }
  },
  "cells": [
    {
      "cell_type": "markdown",
      "metadata": {
        "id": "view-in-github",
        "colab_type": "text"
      },
      "source": [
        "<a href=\"https://colab.research.google.com/github/AvidanJ/MAODV-Magneton/blob/main/HW4.ipynb\" target=\"_parent\"><img src=\"https://colab.research.google.com/assets/colab-badge.svg\" alt=\"Open In Colab\"/></a>"
      ]
    },
    {
      "cell_type": "markdown",
      "source": [
        "Load the diabetes dataset.\n",
        "Split the dataset into training and testing sets."
      ],
      "metadata": {
        "id": "dianNsv1ptZb"
      }
    },
    {
      "cell_type": "code",
      "execution_count": 1,
      "metadata": {
        "id": "HhvHz6oCn3_5"
      },
      "outputs": [],
      "source": [
        "import numpy as np\n",
        "from sklearn import datasets, linear_model, metrics\n",
        "\n",
        "# Load diabetes dataset\n",
        "diabetes = datasets.load_diabetes()\n",
        "diabetes_X = diabetes.data  # matrix of dimensions 442x10\n",
        "\n",
        "# Split the data into training/testing sets\n",
        "diabetes_X_train = diabetes_X[:-20]\n",
        "diabetes_X_test = diabetes_X[-20:]\n",
        "\n",
        "# Split the targets into training/testing sets\n",
        "diabetes_y_train = diabetes.target[:-20]\n",
        "diabetes_y_test = diabetes.target[-20:]\n"
      ]
    },
    {
      "cell_type": "markdown",
      "source": [
        "Create a linear regression model.\n",
        "Train the model using the training set.\n",
        "Make predictions using the testing set.\n",
        "Calculate the mean squared error."
      ],
      "metadata": {
        "id": "DG2PClrPp0jB"
      }
    },
    {
      "cell_type": "code",
      "source": [
        "# Create linear regression object\n",
        "regr = linear_model.LinearRegression()\n",
        "\n",
        "# Train the model using the training sets\n",
        "regr.fit(diabetes_X_train, diabetes_y_train)\n",
        "\n",
        "# Make predictions using the testing set\n",
        "diabetes_y_pred = regr.predict(diabetes_X_test)\n",
        "\n",
        "# The coefficients\n",
        "print(\"Coefficients: \\n\", regr.coef_)\n",
        "# The mean squared error\n",
        "mean_squared_error = metrics.mean_squared_error(diabetes_y_test, diabetes_y_pred)\n",
        "print(\"Mean squared error: %.2f\" % mean_squared_error)\n",
        "print(\"=\"*80)\n"
      ],
      "metadata": {
        "colab": {
          "base_uri": "https://localhost:8080/"
        },
        "id": "OhugQfdTpk-K",
        "outputId": "7544a302-54d8-4f28-b3da-3a3027468c37"
      },
      "execution_count": 2,
      "outputs": [
        {
          "output_type": "stream",
          "name": "stdout",
          "text": [
            "Coefficients: \n",
            " [ 3.06094248e-01 -2.37635570e+02  5.10538048e+02  3.27729878e+02\n",
            " -8.14111926e+02  4.92799595e+02  1.02841240e+02  1.84603496e+02\n",
            "  7.43509388e+02  7.60966464e+01]\n",
            "Mean squared error: 2004.52\n",
            "================================================================================\n"
          ]
        }
      ]
    },
    {
      "cell_type": "markdown",
      "source": [
        "Initialize weights and bias.\n",
        "Set hyperparameters: learning rate and number of epochs.\n",
        "Implement the gradient descent algorithm to minimize the mean squared error."
      ],
      "metadata": {
        "id": "WygpMOGfprXy"
      }
    },
    {
      "cell_type": "code",
      "source": [
        "# Train\n",
        "X = diabetes_X_train\n",
        "y = diabetes_y_train\n",
        "\n",
        "# Initialize weights and bias\n",
        "W = np.random.randn(X.shape[1])\n",
        "b = np.random.randn()\n",
        "\n",
        "learning_rate = 1e-2\n",
        "epochs = 100000\n",
        "\n",
        "# Gradient Descent\n",
        "for i in range(epochs):\n",
        "    # Calculate predictions\n",
        "    y_pred = X @ W + b\n",
        "\n",
        "    # Calculate error and cost\n",
        "    error = y_pred - y\n",
        "    mean_squared_error = metrics.mean_squared_error(y, y_pred)\n",
        "\n",
        "    # Calculate gradients\n",
        "    grad_w = X.T @ error / X.shape[0]\n",
        "    grad_b = np.mean(error)\n",
        "\n",
        "    # Update parameters\n",
        "    W -= learning_rate * grad_w\n",
        "    b -= learning_rate * grad_b\n",
        "\n",
        "    # Diagnostic output\n",
        "    if i % 5000 == 0:\n",
        "        print(f\"Epoch {i}: {mean_squared_error}\")\n",
        "\n",
        "# Display model accuracy and parameters\n",
        "y_pred_test = diabetes_X_test @ W + b\n",
        "MSE = metrics.mean_squared_error(diabetes_y_test, y_pred_test)\n",
        "print(\"-\"*40)\n",
        "print(\"\\nModel Weights:\\n\", W)\n",
        "print(\"-\"*40)\n",
        "print(\"The MSE on test set is:\", MSE)\n"
      ],
      "metadata": {
        "colab": {
          "base_uri": "https://localhost:8080/"
        },
        "id": "y4tmuFdcp8M5",
        "outputId": "0c18e477-dacc-40fa-e75d-ab9d80f960ed"
      },
      "execution_count": 3,
      "outputs": [
        {
          "output_type": "stream",
          "name": "stdout",
          "text": [
            "Epoch 0: 29778.257138647255\n",
            "Epoch 5000: 4605.167011664452\n",
            "Epoch 10000: 3965.2589625231913\n",
            "Epoch 15000: 3632.433525812511\n",
            "Epoch 20000: 3439.454279822337\n",
            "Epoch 25000: 3315.338081839503\n",
            "Epoch 30000: 3228.723603646662\n",
            "Epoch 35000: 3164.8463135100883\n",
            "Epoch 40000: 3116.109764434582\n",
            "Epoch 45000: 3078.1736973099482\n",
            "Epoch 50000: 3048.2927629367555\n",
            "Epoch 55000: 3024.5825271811345\n",
            "Epoch 60000: 3005.674382620916\n",
            "Epoch 65000: 2990.5386783970957\n",
            "Epoch 70000: 2978.3843631205273\n",
            "Epoch 75000: 2968.5961084896253\n",
            "Epoch 80000: 2960.6916187940587\n",
            "Epoch 85000: 2954.29097152166\n",
            "Epoch 90000: 2949.093802235927\n",
            "Epoch 95000: 2944.861960095221\n",
            "----------------------------------------\n",
            "\n",
            "Model Weights:\n",
            " [  15.41913416 -195.69643002  480.03128341  304.96363444  -46.86320019\n",
            " -104.04741221 -209.48053902  132.64573135  398.4616972   125.19633031]\n",
            "----------------------------------------\n",
            "The MSE on test set is: 2124.93866056589\n"
          ]
        }
      ]
    },
    {
      "cell_type": "markdown",
      "source": [
        "The mean squared error for the model implemented with scikit-learn serves as a benchmark.\n",
        "The mean squared error for the manually implemented gradient descent model is compared to ensure correctness."
      ],
      "metadata": {
        "id": "KkTKIGl1qC83"
      }
    }
  ]
}